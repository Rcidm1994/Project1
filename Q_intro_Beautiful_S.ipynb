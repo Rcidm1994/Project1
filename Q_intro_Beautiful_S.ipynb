{
 "cells": [
  {
   "cell_type": "markdown",
   "metadata": {},
   "source": [
    "With your knowledge of HTML file structure, you're going to use Beautiful Soup to extract our desired Audience Score metric and number of audience ratings, along with the movie title like in the video above (so we have something to merge the datasets on later) for each HTML file, then save them in a pandas DataFrame."
   ]
  },
  {
   "cell_type": "code",
   "execution_count": 1,
   "metadata": {},
   "outputs": [],
   "source": [
    "from bs4 import BeautifulSoup\n",
    "import os\n",
    "import pandas as pd"
   ]
  },
  {
   "cell_type": "markdown",
   "metadata": {},
   "source": [
    "#### HTML File Structure\n",
    "The Hypertext Markup Language (or HTML) is the language used to create documents for the World Wide Web."
   ]
  },
  {
   "cell_type": "code",
   "execution_count": 3,
   "metadata": {},
   "outputs": [],
   "source": [
    "with open('rt_html/et_the_extraterrestrial.html') as file:\n",
    "    soup = BeautifulSoup(file) #Make the soup"
   ]
  },
  {
   "cell_type": "code",
   "execution_count": 8,
   "metadata": {},
   "outputs": [],
   "source": [
    "#soup #outputs html document"
   ]
  },
  {
   "cell_type": "markdown",
   "metadata": {},
   "source": [
    "Let's find the title of our movie using **find()** method in our soup."
   ]
  },
  {
   "cell_type": "code",
   "execution_count": 7,
   "metadata": {},
   "outputs": [
    {
     "data": {
      "text/plain": [
       "<title>E.T. The Extra-Terrestrial (1982) - Rotten Tomatoes</title>"
      ]
     },
     "execution_count": 7,
     "metadata": {},
     "output_type": "execute_result"
    }
   ],
   "source": [
    "soup.find('title') \n",
    "#this is the title of the website not the movie."
   ]
  },
  {
   "cell_type": "markdown",
   "metadata": {},
   "source": [
    "To get the movie title only we have to do some simple str slicing.\n",
    "\n",
    "To acces the contents of this tag, we can use **.contents()** which returns a list of the tags children."
   ]
  },
  {
   "cell_type": "code",
   "execution_count": 10,
   "metadata": {},
   "outputs": [
    {
     "data": {
      "text/plain": [
       "['E.T. The Extra-Terrestrial\\xa0(1982) - Rotten Tomatoes']"
      ]
     },
     "execution_count": 10,
     "metadata": {},
     "output_type": "execute_result"
    }
   ],
   "source": [
    "soup.find('title').contents #this outputs a list"
   ]
  },
  {
   "cell_type": "markdown",
   "metadata": {},
   "source": [
    "Because there's only one thing withing this tag, the list is one item long and we can then access it using the index 0."
   ]
  },
  {
   "cell_type": "code",
   "execution_count": 18,
   "metadata": {},
   "outputs": [
    {
     "data": {
      "text/plain": [
       "'E.T. The Extra-Terrestrial\\xa0(1982)'"
      ]
     },
     "execution_count": 18,
     "metadata": {},
     "output_type": "execute_result"
    }
   ],
   "source": [
    "# by indexing with 0 we can access the full element of the list\n",
    "soup.find('title').contents[0][:-len(' - Rotten Tomatoes')]\n",
    "# then we slice again from the inital index to the 18th last character which is the lenght of the characters we dont want"
   ]
  },
  {
   "cell_type": "code",
   "execution_count": 19,
   "metadata": {},
   "outputs": [
    {
     "data": {
      "text/plain": [
       "18"
      ]
     },
     "execution_count": 19,
     "metadata": {},
     "output_type": "execute_result"
    }
   ],
   "source": [
    "len(' - Rotten Tomatoes')"
   ]
  },
  {
   "cell_type": "markdown",
   "metadata": {},
   "source": [
    "### Quiz\n",
    "\n",
    "With your knowledge of HTML file structure, you're going to use Beautiful Soup to extract our desired Audience Score metric and number of audience ratings, along with the movie title like in the video above (so we have something to merge the datasets on later) for each HTML file, then save them in a pandas DataFrame.\n",
    "\n",
    "The Jupyter Notebook below contains template code that:\n",
    "\n",
    "- Creates an empty list, df_list, to which dictionaries will be appended. This list of dictionaries will eventually be converted to a pandas DataFrame (this is the most efficient way of building a DataFrame row by row).\n",
    "\n",
    "- Loops through each movie's Rotten Tomatoes HTML file in the rt_html folder.\n",
    "\n",
    "- Opens each HTML file and passes it into a file handle called file.\n",
    "\n",
    "- Creates a DataFrame called df by converting df_list using the pd.DataFrame constructor.\n",
    "\n",
    "Your task is to extract the title, audience score, and number of audience ratings in each HTML file so each trio can be appended as a dictionary to df_list.\n",
    "\n",
    "The Beautiful Soup methods required for this task are:\n",
    "\n",
    "- find()\n",
    "- find_all()"
   ]
  },
  {
   "cell_type": "code",
   "execution_count": 29,
   "metadata": {},
   "outputs": [
    {
     "name": "stdout",
     "output_type": "stream",
     "text": [
      "zootopia.html\n",
      "treasure_of_the_sierra_madre.html\n",
      "1000642-all_quiet_on_the_western_front.html\n",
      "1017289-rear_window.html\n",
      "selma.html\n",
      "citizen_kane.html\n",
      "1003707-casablanca.html\n",
      "inside_out_2015.html\n",
      "gravity_2013.html\n",
      "dr_strangelove.html\n",
      "seven_samurai_1956.html\n",
      "open_city.html\n",
      "1021749-touch_of_evil.html\n",
      "get_out.html\n",
      "the_battle_of_algiers.html\n",
      "star_wars_episode_vii_the_force_awakens.html\n",
      "rosemarys_baby.html\n",
      "brooklyn.html\n",
      "grapes_of_wrath.html\n",
      "the_conformist.html\n",
      "1000626-all_about_eve.html\n",
      "bicycle_thieves.html\n",
      "gone_with_the_wind.html\n",
      "argo_2012.html\n",
      "moonlight_2016.html\n",
      "bride_of_frankenstein.html\n",
      "1000121-39_steps.html\n",
      "toy_story_2.html\n",
      "1048445-snow_white_and_the_seven_dwarfs.html\n",
      "1046060-high_noon.html\n",
      "psycho.html\n",
      "12_years_a_slave.html\n",
      "1000013-12_angry_men.html\n",
      "la_la_land.html\n",
      "rashomon.html\n",
      "the_wizard_of_oz_1939.html\n",
      "the_good_the_bad_and_the_ugly.html\n",
      "400_blows.html\n",
      "manchester_by_the_sea.html\n",
      "battleship_potemkin.html\n",
      "man_on_wire.html\n",
      "toy_story_3.html\n",
      "up.html\n",
      "spotlight_2015.html\n",
      "boyhood.html\n",
      "harry_potter_and_the_deathly_hallows_part_2_2011.html\n",
      "singin_in_the_rain.html\n",
      "tokyo_story.html\n",
      "1012007-laura.html\n",
      "the_wrestler.html\n",
      "the_dark_knight.html\n",
      "1011615-king_kong.html\n",
      "logan_2017.html\n",
      "taxi_driver.html\n",
      "the_third_man.html\n",
      "it_happened_one_night.html\n",
      "alien.html\n",
      "north-by-northwest.html\n",
      "pinocchio_1940.html\n",
      "vertigo.html\n",
      "repulsion.html\n",
      "wonder_woman_2017.html\n",
      "baby_driver.html\n",
      "philadelphia_story.html\n",
      "1013139-maltese_falcon.html\n",
      "apocalypse_now.html\n",
      "the_babadook.html\n",
      "last_picture_show.html\n",
      "modern_times.html\n",
      "godfather_part_ii.html\n",
      "army_of_shadows.html\n",
      "beatles_a_hard_days_night.html\n",
      "sunset_boulevard.html\n",
      "la_confidential.html\n",
      "godfather.html\n",
      "la_grande_illusion.html\n",
      "the_big_sick.html\n",
      "nosferatu.html\n",
      "1000355-adventures_of_robin_hood.html\n",
      "1007818-frankenstein.html\n",
      "the_jungle_book_2016.html\n",
      "finding_nemo.html\n",
      "jaws.html\n",
      "hell_or_high_water.html\n",
      "1017293-rebecca.html\n",
      "1012928-m.html\n",
      "mad_max_fury_road.html\n",
      "et_the_extraterrestrial.html\n",
      "dunkirk_2017.html\n",
      "the_cabinet_of_dr_caligari.html\n",
      "wages_of_fear.html\n",
      "toy_story.html\n",
      "on_the_waterfront.html\n",
      "roman_holiday.html\n",
      "1013775-metropolis.html\n",
      "night_of_the_hunter.html\n",
      "1020333-streetcar_named_desire.html\n",
      "arrival_2016.html\n",
      "skyfall.html\n",
      "star_trek_11.html\n"
     ]
    }
   ],
   "source": [
    "# Step 1: create a for loop to iterate through the list of dictionaries by using os.listdir()\n",
    "df_list = []\n",
    "folder = 'rt_html'\n",
    "# List of dictionaries to build file by file and later convert to a DataFrame\n",
    "for movie_html in os.listdir(folder):\n",
    "    print(movie_html)\n",
    "\n",
    "# os.listdir() method in python is used to get the list of all files and directories in the specified directory. "
   ]
  },
  {
   "cell_type": "code",
   "execution_count": 32,
   "metadata": {},
   "outputs": [],
   "source": [
    "# Step 2: join paths of folder and html file tu use open function and make the soup\n",
    "df_list = []\n",
    "folder = 'rt_html'\n",
    "\n",
    "for movie_html in os.listdir(folder):\n",
    "    with open(os.path.join(folder, movie_html)) as file: #os.path.join: joins two or more paths \n",
    "        # we need to do this since we need to following format to use open function:\n",
    "        # 'rt_html/et_the_extraterrestrial.html'\n",
    "        soup = BeautifulSoup(file) # make the soup"
   ]
  },
  {
   "cell_type": "code",
   "execution_count": 46,
   "metadata": {},
   "outputs": [
    {
     "name": "stdout",
     "output_type": "stream",
     "text": [
      "<span class=\"superPageFontColor\" style=\"vertical-align:top\">92%</span>\n"
     ]
    }
   ],
   "source": [
    "# Step 3: use find() methods to first get movie title audience score \n",
    "\n",
    "df_list = []\n",
    "folder = 'rt_html'\n",
    "for movie_html in os.listdir(folder):\n",
    "    with open(os.path.join(folder, movie_html)) as file:\n",
    "        soup = BeautifulSoup(file)\n",
    "        title = soup.find('title').contents[0][:-len(' - Rotten Tomatoes')]\n",
    "        audience_score = soup.find('div', class_ = 'audience-score meter').find('span')\n",
    "        print(audience_score)\n",
    "        break"
   ]
  },
  {
   "cell_type": "code",
   "execution_count": 48,
   "metadata": {},
   "outputs": [
    {
     "name": "stdout",
     "output_type": "stream",
     "text": [
      "92%\n"
     ]
    }
   ],
   "source": [
    "# validate audience score \n",
    "df_list = []\n",
    "folder = 'rt_html'\n",
    "for movie_html in os.listdir(folder):\n",
    "    with open(os.path.join(folder, movie_html)) as file:\n",
    "        soup = BeautifulSoup(file)\n",
    "        title = soup.find('title').contents[0][:-len(' - Rotten Tomatoes')]\n",
    "        audience_score = soup.find('div', class_ = 'audience-score meter').find('span').contents[0]\n",
    "        print(audience_score)\n",
    "        break"
   ]
  },
  {
   "cell_type": "code",
   "execution_count": 52,
   "metadata": {},
   "outputs": [
    {
     "name": "stdout",
     "output_type": "stream",
     "text": [
      "92\n"
     ]
    }
   ],
   "source": [
    "# validate audience score \n",
    "df_list = []\n",
    "folder = 'rt_html'\n",
    "for movie_html in os.listdir(folder):\n",
    "    with open(os.path.join(folder, movie_html)) as file:\n",
    "        soup = BeautifulSoup(file)\n",
    "        title = soup.find('title').contents[0][:-len(' - Rotten Tomatoes')]\n",
    "        audience_score = soup.find('div', class_ = 'audience-score meter').find('span').contents[0][:-1]\n",
    "        # take out the % sign we get rid of it with some basic string slicing. \n",
    "        # Here you grab everything in the string except the last character in it.\n",
    "        print(audience_score)\n",
    "        break"
   ]
  },
  {
   "cell_type": "code",
   "execution_count": 71,
   "metadata": {},
   "outputs": [
    {
     "name": "stdout",
     "output_type": "stream",
     "text": [
      "\n",
      "        98,633\n"
     ]
    }
   ],
   "source": [
    "df_list = []\n",
    "folder = 'rt_html'\n",
    "for movie_html in os.listdir(folder):\n",
    "    with open(os.path.join(folder, movie_html)) as file:\n",
    "        soup = BeautifulSoup(file)\n",
    "        title = soup.find('title').contents[0][:-len(' - Rotten Tomatoes')]\n",
    "        audience_score = soup.find('div', class_ = 'audience-score meter').find('span').contents[0][:-1]\n",
    "        num_audience_ratings = soup.find('div', class_ = 'audience-info hidden-xs superPageFontColor')\n",
    "        num_audience_ratings = num_audience_ratings.find_all('div')[1].contents[2]\n",
    "        print(num_audience_ratings)\n",
    "        break"
   ]
  },
  {
   "cell_type": "markdown",
   "metadata": {},
   "source": [
    "The output is in string string form. We'll all have to convert to an integer, to do that we have to rome the commas. So we will do that using python's replace function, replacing commas with empty characters."
   ]
  },
  {
   "cell_type": "code",
   "execution_count": 79,
   "metadata": {},
   "outputs": [
    {
     "name": "stdout",
     "output_type": "stream",
     "text": [
      "98633\n"
     ]
    }
   ],
   "source": [
    "df_list = []\n",
    "folder = 'rt_html'\n",
    "for movie_html in os.listdir(folder):\n",
    "    with open(os.path.join(folder, movie_html)) as file:\n",
    "        soup = BeautifulSoup(file)\n",
    "        title = soup.find('title').contents[0][:-len(' - Rotten Tomatoes')]\n",
    "        audience_score = soup.find('div', class_ = 'audience-score meter').find('span').contents[0][:-1]\n",
    "        num_audience_ratings = soup.find('div', class_ = 'audience-info hidden-xs superPageFontColor')\n",
    "        num_audience_ratings = num_audience_ratings.find_all('div')[1].contents[2].strip().replace(',', '')\n",
    "        print(num_audience_ratings)\n",
    "        break\n",
    "# The strip() method returns a copy of the string in which all chars have been \n",
    "# stripped from the beginning and the end of the string (default whitespace characters)."
   ]
  },
  {
   "cell_type": "code",
   "execution_count": 98,
   "metadata": {},
   "outputs": [],
   "source": [
    "df_list = []\n",
    "folder = 'rt_html'\n",
    "for movie_html in os.listdir(folder):\n",
    "    with open(os.path.join(folder, movie_html)) as file:\n",
    "        soup = BeautifulSoup(file)\n",
    "        title = soup.find('title').contents[0][:-len(' - Rotten Tomatoes')]\n",
    "        audience_score = soup.find('div', class_ = 'audience-score meter').find('span').contents[0][:-1]\n",
    "        num_audience_ratings = soup.find('div', class_= 'audience-info hidden-xs superPageFontColor')\n",
    "        num_audience_ratings = num_audience_ratings.find_all('div')[1].contents[2].strip().replace(',','')\n",
    "        df_list.append({'title': title,\n",
    "                       'audience_score' : int(audience_score),\n",
    "                       'number_of_audience_ratings' : int(num_audience_ratings)})\n",
    "df = pd.DataFrame(df_list, columns = ['title', 'audience_score', 'number_of_audience_ratings'])"
   ]
  },
  {
   "cell_type": "code",
   "execution_count": 99,
   "metadata": {},
   "outputs": [
    {
     "data": {
      "text/html": [
       "<div>\n",
       "<style scoped>\n",
       "    .dataframe tbody tr th:only-of-type {\n",
       "        vertical-align: middle;\n",
       "    }\n",
       "\n",
       "    .dataframe tbody tr th {\n",
       "        vertical-align: top;\n",
       "    }\n",
       "\n",
       "    .dataframe thead th {\n",
       "        text-align: right;\n",
       "    }\n",
       "</style>\n",
       "<table border=\"1\" class=\"dataframe\">\n",
       "  <thead>\n",
       "    <tr style=\"text-align: right;\">\n",
       "      <th></th>\n",
       "      <th>title</th>\n",
       "      <th>audience_score</th>\n",
       "      <th>number_of_audience_ratings</th>\n",
       "    </tr>\n",
       "  </thead>\n",
       "  <tbody>\n",
       "    <tr>\n",
       "      <td>0</td>\n",
       "      <td>Zootopia (2016)</td>\n",
       "      <td>92</td>\n",
       "      <td>98633</td>\n",
       "    </tr>\n",
       "    <tr>\n",
       "      <td>1</td>\n",
       "      <td>The Treasure of the Sierra Madre (1948)</td>\n",
       "      <td>93</td>\n",
       "      <td>25627</td>\n",
       "    </tr>\n",
       "    <tr>\n",
       "      <td>2</td>\n",
       "      <td>All Quiet on the Western Front (1930)</td>\n",
       "      <td>89</td>\n",
       "      <td>17768</td>\n",
       "    </tr>\n",
       "    <tr>\n",
       "      <td>3</td>\n",
       "      <td>Rear Window (1954)</td>\n",
       "      <td>95</td>\n",
       "      <td>149458</td>\n",
       "    </tr>\n",
       "    <tr>\n",
       "      <td>4</td>\n",
       "      <td>Selma (2015)</td>\n",
       "      <td>86</td>\n",
       "      <td>60533</td>\n",
       "    </tr>\n",
       "    <tr>\n",
       "      <td>...</td>\n",
       "      <td>...</td>\n",
       "      <td>...</td>\n",
       "      <td>...</td>\n",
       "    </tr>\n",
       "    <tr>\n",
       "      <td>95</td>\n",
       "      <td>The Night of the Hunter (1955)</td>\n",
       "      <td>90</td>\n",
       "      <td>24322</td>\n",
       "    </tr>\n",
       "    <tr>\n",
       "      <td>96</td>\n",
       "      <td>A Streetcar Named Desire (1951)</td>\n",
       "      <td>90</td>\n",
       "      <td>54761</td>\n",
       "    </tr>\n",
       "    <tr>\n",
       "      <td>97</td>\n",
       "      <td>Arrival (2016)</td>\n",
       "      <td>82</td>\n",
       "      <td>78740</td>\n",
       "    </tr>\n",
       "    <tr>\n",
       "      <td>98</td>\n",
       "      <td>Skyfall (2012)</td>\n",
       "      <td>86</td>\n",
       "      <td>372497</td>\n",
       "    </tr>\n",
       "    <tr>\n",
       "      <td>99</td>\n",
       "      <td>Star Trek (2009)</td>\n",
       "      <td>91</td>\n",
       "      <td>746458</td>\n",
       "    </tr>\n",
       "  </tbody>\n",
       "</table>\n",
       "<p>100 rows × 3 columns</p>\n",
       "</div>"
      ],
      "text/plain": [
       "                                      title  audience_score  \\\n",
       "0                           Zootopia (2016)              92   \n",
       "1   The Treasure of the Sierra Madre (1948)              93   \n",
       "2     All Quiet on the Western Front (1930)              89   \n",
       "3                        Rear Window (1954)              95   \n",
       "4                              Selma (2015)              86   \n",
       "..                                      ...             ...   \n",
       "95           The Night of the Hunter (1955)              90   \n",
       "96          A Streetcar Named Desire (1951)              90   \n",
       "97                           Arrival (2016)              82   \n",
       "98                           Skyfall (2012)              86   \n",
       "99                         Star Trek (2009)              91   \n",
       "\n",
       "    number_of_audience_ratings  \n",
       "0                        98633  \n",
       "1                        25627  \n",
       "2                        17768  \n",
       "3                       149458  \n",
       "4                        60533  \n",
       "..                         ...  \n",
       "95                       24322  \n",
       "96                       54761  \n",
       "97                       78740  \n",
       "98                      372497  \n",
       "99                      746458  \n",
       "\n",
       "[100 rows x 3 columns]"
      ]
     },
     "execution_count": 99,
     "metadata": {},
     "output_type": "execute_result"
    }
   ],
   "source": [
    "df"
   ]
  },
  {
   "cell_type": "code",
   "execution_count": 100,
   "metadata": {},
   "outputs": [
    {
     "name": "stdout",
     "output_type": "stream",
     "text": [
      "geeks for geeks\n",
      " for \n"
     ]
    }
   ],
   "source": [
    "# Example \n",
    "# Python Program to demonstrate use of strip() method \n",
    "\n",
    "str1 = 'geeks for geeks'\n",
    "# Print the string without striping. \n",
    "print(str1) \n",
    "\n",
    "# String whose set of characters are to be \n",
    "# remove from original string at both its ends. \n",
    "str2 = 'ekgs'\n",
    "\n",
    "# Print string after striping str2 from str1 at both its end. \n",
    "print(str1.strip(str2)) "
   ]
  },
  {
   "cell_type": "markdown",
   "metadata": {},
   "source": [
    "Working of above code :\n",
    "- #1 We first construct a string str1 = ‘geeks for geeks’\n",
    "- #2 Now we call strip method over str1 and pass str2 = ‘ekgs’ as arguement.\n",
    "- #3 Now python interpreter trace str1 from left.It remove the character of str1 if it is present in str2.\n",
    "- #4 Otherwise it stops tracing.\n",
    "- #5 Now python interpreter trace str1 from right. It remove the character of str1 if it is present in str2.\n",
    "- #6 Otherwise it stop tracing.\n",
    "- #7 Now at last it returns the resultant string.\n",
    "\n",
    "When we call strip() without argument, it removes leading and trailing spaces."
   ]
  },
  {
   "cell_type": "code",
   "execution_count": 101,
   "metadata": {},
   "outputs": [
    {
     "name": "stdout",
     "output_type": "stream",
     "text": [
      " geeks for geeks \n",
      "geeks for geeks\n"
     ]
    }
   ],
   "source": [
    "# Python Program to demonstrate use of strip() method without any arguement \n",
    "str1 = \"\"\" geeks for geeks \"\"\"\n",
    "\n",
    "# Print the string without striping. \n",
    "print(str1) \n",
    "\n",
    "# Print string after removing all leading \n",
    "# and trailing whitespaces. \n",
    "print(str1.strip()) "
   ]
  },
  {
   "cell_type": "code",
   "execution_count": null,
   "metadata": {},
   "outputs": [],
   "source": []
  },
  {
   "cell_type": "code",
   "execution_count": null,
   "metadata": {},
   "outputs": [],
   "source": []
  },
  {
   "cell_type": "code",
   "execution_count": null,
   "metadata": {},
   "outputs": [],
   "source": []
  }
 ],
 "metadata": {
  "kernelspec": {
   "display_name": "Python 3",
   "language": "python",
   "name": "python3"
  },
  "language_info": {
   "codemirror_mode": {
    "name": "ipython",
    "version": 3
   },
   "file_extension": ".py",
   "mimetype": "text/x-python",
   "name": "python",
   "nbconvert_exporter": "python",
   "pygments_lexer": "ipython3",
   "version": "3.8.5"
  }
 },
 "nbformat": 4,
 "nbformat_minor": 2
}

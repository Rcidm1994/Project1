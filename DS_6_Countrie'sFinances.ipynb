{
 "cells": [
  {
   "cell_type": "code",
   "execution_count": 160,
   "metadata": {},
   "outputs": [],
   "source": [
    "# Dependencies\n",
    "import requests\n",
    "import json\n",
    "import pandas as pd\n",
    "import matplotlib.pyplot as plt\n",
    "from scipy import stats\n",
    "from pprint import pprint"
   ]
  },
  {
   "cell_type": "code",
   "execution_count": 161,
   "metadata": {},
   "outputs": [],
   "source": [
    "from DS6_config import DS601key"
   ]
  },
  {
   "cell_type": "code",
   "execution_count": 162,
   "metadata": {},
   "outputs": [
    {
     "data": {
      "text/plain": [
       "'mexico'"
      ]
     },
     "execution_count": 162,
     "metadata": {},
     "output_type": "execute_result"
    }
   ],
   "source": [
    "froms = []\n",
    "tos = []\n",
    "confirmed = []\n",
    "deaths = []\n",
    "country = []\n",
    "list_of_countries = ['mexico','australia','united kingdom','turkey','Saudi Arabia','italy','japan','indonesia','france','united_states_of_america','germany','south corea','costa rica','colombia','brazil', 'spain','china','argentina','chile','south africa','india','russia']\n",
    "country = 'mexico'\n",
    "fromdate = '2020-02-01'\n",
    "todate = '2021-02-01'\n",
    "confirmed_url = f'https://api.covid19api.com/total/country/{country}/status/confirmed?from={fromdate}T00:00:00Z&to={todate}T00:00:00Z'\n",
    "deaths_url = f'https://api.covid19api.com/total/country/{country}/status/deaths?from={fromdate}T00:00:00Z&to={todate}T00:00:00Z'\n",
    "response_deaths = requests.get(deaths_url).json() \n",
    "response_confirmed = requests.get(confirmed_url).json()\n",
    "country"
   ]
  },
  {
   "cell_type": "code",
   "execution_count": 163,
   "metadata": {},
   "outputs": [],
   "source": [
    "day_cumulated_deaths=[]\n",
    "day_cumulated_confirmed=[]\n",
    "country_data=[]\n",
    "date_data = []\n",
    "for day in response_deaths:\n",
    "     day_cumulated_deaths.append(day['Cases'])\n",
    "for day in response_confirmed:\n",
    "    day_cumulated_confirmed.append(day['Cases'])\n",
    "    country_data.append(country)\n",
    "    date_data.append(day['Date'][0:10])"
   ]
  },
  {
   "cell_type": "code",
   "execution_count": 164,
   "metadata": {},
   "outputs": [
    {
     "data": {
      "text/html": [
       "<div>\n",
       "<style scoped>\n",
       "    .dataframe tbody tr th:only-of-type {\n",
       "        vertical-align: middle;\n",
       "    }\n",
       "\n",
       "    .dataframe tbody tr th {\n",
       "        vertical-align: top;\n",
       "    }\n",
       "\n",
       "    .dataframe thead th {\n",
       "        text-align: right;\n",
       "    }\n",
       "</style>\n",
       "<table border=\"1\" class=\"dataframe\">\n",
       "  <thead>\n",
       "    <tr style=\"text-align: right;\">\n",
       "      <th></th>\n",
       "      <th>date</th>\n",
       "      <th>country</th>\n",
       "      <th>confirmed</th>\n",
       "      <th>deaths</th>\n",
       "    </tr>\n",
       "  </thead>\n",
       "  <tbody>\n",
       "    <tr>\n",
       "      <th>0</th>\n",
       "      <td>2020-02-01</td>\n",
       "      <td>mexico</td>\n",
       "      <td>0</td>\n",
       "      <td>0</td>\n",
       "    </tr>\n",
       "    <tr>\n",
       "      <th>1</th>\n",
       "      <td>2020-02-02</td>\n",
       "      <td>mexico</td>\n",
       "      <td>0</td>\n",
       "      <td>0</td>\n",
       "    </tr>\n",
       "    <tr>\n",
       "      <th>2</th>\n",
       "      <td>2020-02-03</td>\n",
       "      <td>mexico</td>\n",
       "      <td>0</td>\n",
       "      <td>0</td>\n",
       "    </tr>\n",
       "    <tr>\n",
       "      <th>3</th>\n",
       "      <td>2020-02-04</td>\n",
       "      <td>mexico</td>\n",
       "      <td>0</td>\n",
       "      <td>0</td>\n",
       "    </tr>\n",
       "    <tr>\n",
       "      <th>4</th>\n",
       "      <td>2020-02-05</td>\n",
       "      <td>mexico</td>\n",
       "      <td>0</td>\n",
       "      <td>0</td>\n",
       "    </tr>\n",
       "    <tr>\n",
       "      <th>...</th>\n",
       "      <td>...</td>\n",
       "      <td>...</td>\n",
       "      <td>...</td>\n",
       "      <td>...</td>\n",
       "    </tr>\n",
       "    <tr>\n",
       "      <th>362</th>\n",
       "      <td>2021-01-28</td>\n",
       "      <td>mexico</td>\n",
       "      <td>1825519</td>\n",
       "      <td>155145</td>\n",
       "    </tr>\n",
       "    <tr>\n",
       "      <th>363</th>\n",
       "      <td>2021-01-29</td>\n",
       "      <td>mexico</td>\n",
       "      <td>1841893</td>\n",
       "      <td>156579</td>\n",
       "    </tr>\n",
       "    <tr>\n",
       "      <th>364</th>\n",
       "      <td>2021-01-30</td>\n",
       "      <td>mexico</td>\n",
       "      <td>1857230</td>\n",
       "      <td>158074</td>\n",
       "    </tr>\n",
       "    <tr>\n",
       "      <th>365</th>\n",
       "      <td>2021-01-31</td>\n",
       "      <td>mexico</td>\n",
       "      <td>1864260</td>\n",
       "      <td>158536</td>\n",
       "    </tr>\n",
       "    <tr>\n",
       "      <th>366</th>\n",
       "      <td>2021-02-01</td>\n",
       "      <td>mexico</td>\n",
       "      <td>1869708</td>\n",
       "      <td>159100</td>\n",
       "    </tr>\n",
       "  </tbody>\n",
       "</table>\n",
       "<p>367 rows × 4 columns</p>\n",
       "</div>"
      ],
      "text/plain": [
       "           date country  confirmed  deaths\n",
       "0    2020-02-01  mexico          0       0\n",
       "1    2020-02-02  mexico          0       0\n",
       "2    2020-02-03  mexico          0       0\n",
       "3    2020-02-04  mexico          0       0\n",
       "4    2020-02-05  mexico          0       0\n",
       "..          ...     ...        ...     ...\n",
       "362  2021-01-28  mexico    1825519  155145\n",
       "363  2021-01-29  mexico    1841893  156579\n",
       "364  2021-01-30  mexico    1857230  158074\n",
       "365  2021-01-31  mexico    1864260  158536\n",
       "366  2021-02-01  mexico    1869708  159100\n",
       "\n",
       "[367 rows x 4 columns]"
      ]
     },
     "execution_count": 164,
     "metadata": {},
     "output_type": "execute_result"
    }
   ],
   "source": [
    "dict_cases = {'date': date_data, 'country': country_data, 'confirmed': day_cumulated_confirmed, 'deaths': day_cumulated_deaths}  \n",
    "    \n",
    "df = pd.DataFrame(dict_cases) \n",
    "df  "
   ]
  },
  {
   "cell_type": "code",
   "execution_count": null,
   "metadata": {},
   "outputs": [],
   "source": []
  }
 ],
 "metadata": {
  "kernelspec": {
   "display_name": "Python [conda env:.conda-pythonData] *",
   "language": "python",
   "name": "conda-env-.conda-pythonData-py"
  },
  "language_info": {
   "codemirror_mode": {
    "name": "ipython",
    "version": 3
   },
   "file_extension": ".py",
   "mimetype": "text/x-python",
   "name": "python",
   "nbconvert_exporter": "python",
   "pygments_lexer": "ipython3",
   "version": "3.6.10"
  }
 },
 "nbformat": 4,
 "nbformat_minor": 4
}

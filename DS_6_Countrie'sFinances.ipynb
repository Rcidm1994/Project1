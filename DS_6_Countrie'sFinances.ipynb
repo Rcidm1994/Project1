{
 "cells": [
  {
   "cell_type": "code",
   "execution_count": 2,
   "metadata": {},
   "outputs": [],
   "source": [
    "# Dependencies\n",
    "import requests\n",
    "import json\n",
    "import pandas as pd\n",
    "import matplotlib.pyplot as plt\n",
    "from scipy import stats\n",
    "from pprint import pprint"
   ]
  },
  {
   "cell_type": "code",
   "execution_count": 3,
   "metadata": {},
   "outputs": [],
   "source": [
    "# Import keys for Covid19Api webpage\n",
    "from DS6_config import DS601key"
   ]
  },
  {
   "cell_type": "code",
   "execution_count": 4,
   "metadata": {},
   "outputs": [],
   "source": [
    "# Create empty lists, country and dates\n",
    "froms = []\n",
    "tos = []\n",
    "confirmed = []\n",
    "deaths = []\n",
    "country = []\n",
    "country = 'mexico'\n",
    "fromdate = '2020-01-01'\n",
    "todate = '2021-03-01'\n",
    "\n",
    "# Assemble URL with the informtion needed.\n",
    "confirmed_url = f'https://api.covid19api.com/total/country/{country}/status/confirmed?from={fromdate}T00:00:00Z&to={todate}T00:00:00Z'\n",
    "deaths_url = f'https://api.covid19api.com/total/country/{country}/status/deaths?from={fromdate}T00:00:00Z&to={todate}T00:00:00Z'\n",
    "response_deaths = requests.get(deaths_url).json() \n",
    "response_confirmed = requests.get(confirmed_url).json()"
   ]
  },
  {
   "cell_type": "code",
   "execution_count": 5,
   "metadata": {},
   "outputs": [],
   "source": [
    "# Generate empty lists for deaths and covid confirmed.\n",
    "day_cumulated_deaths=[]\n",
    "day_cumulated_confirmed=[]\n",
    "country_data=[]\n",
    "date_data = []\n",
    "\n",
    "# Fill information for every row read on the url response, for deaths and confirmed cases.\n",
    "for day in response_deaths:\n",
    "     day_cumulated_deaths.append(day['Cases'])\n",
    "for day in response_confirmed:\n",
    "    day_cumulated_confirmed.append(day['Cases'])\n",
    "    country_data.append(country)\n",
    "    date_data.append(day['Date'][0:10])"
   ]
  },
  {
   "cell_type": "code",
   "execution_count": 6,
   "metadata": {},
   "outputs": [
    {
     "data": {
      "text/html": [
       "<div>\n",
       "<style scoped>\n",
       "    .dataframe tbody tr th:only-of-type {\n",
       "        vertical-align: middle;\n",
       "    }\n",
       "\n",
       "    .dataframe tbody tr th {\n",
       "        vertical-align: top;\n",
       "    }\n",
       "\n",
       "    .dataframe thead th {\n",
       "        text-align: right;\n",
       "    }\n",
       "</style>\n",
       "<table border=\"1\" class=\"dataframe\">\n",
       "  <thead>\n",
       "    <tr style=\"text-align: right;\">\n",
       "      <th></th>\n",
       "      <th>date</th>\n",
       "      <th>country</th>\n",
       "      <th>confirmed</th>\n",
       "      <th>deaths</th>\n",
       "    </tr>\n",
       "  </thead>\n",
       "  <tbody>\n",
       "    <tr>\n",
       "      <th>0</th>\n",
       "      <td>2020-01-22</td>\n",
       "      <td>mexico</td>\n",
       "      <td>0</td>\n",
       "      <td>0</td>\n",
       "    </tr>\n",
       "    <tr>\n",
       "      <th>1</th>\n",
       "      <td>2020-01-23</td>\n",
       "      <td>mexico</td>\n",
       "      <td>0</td>\n",
       "      <td>0</td>\n",
       "    </tr>\n",
       "    <tr>\n",
       "      <th>2</th>\n",
       "      <td>2020-01-24</td>\n",
       "      <td>mexico</td>\n",
       "      <td>0</td>\n",
       "      <td>0</td>\n",
       "    </tr>\n",
       "    <tr>\n",
       "      <th>3</th>\n",
       "      <td>2020-01-25</td>\n",
       "      <td>mexico</td>\n",
       "      <td>0</td>\n",
       "      <td>0</td>\n",
       "    </tr>\n",
       "    <tr>\n",
       "      <th>4</th>\n",
       "      <td>2020-01-26</td>\n",
       "      <td>mexico</td>\n",
       "      <td>0</td>\n",
       "      <td>0</td>\n",
       "    </tr>\n",
       "    <tr>\n",
       "      <th>...</th>\n",
       "      <td>...</td>\n",
       "      <td>...</td>\n",
       "      <td>...</td>\n",
       "      <td>...</td>\n",
       "    </tr>\n",
       "    <tr>\n",
       "      <th>387</th>\n",
       "      <td>2021-02-12</td>\n",
       "      <td>mexico</td>\n",
       "      <td>1978954</td>\n",
       "      <td>172557</td>\n",
       "    </tr>\n",
       "    <tr>\n",
       "      <th>388</th>\n",
       "      <td>2021-02-13</td>\n",
       "      <td>mexico</td>\n",
       "      <td>1988695</td>\n",
       "      <td>173771</td>\n",
       "    </tr>\n",
       "    <tr>\n",
       "      <th>389</th>\n",
       "      <td>2021-02-14</td>\n",
       "      <td>mexico</td>\n",
       "      <td>1992794</td>\n",
       "      <td>174207</td>\n",
       "    </tr>\n",
       "    <tr>\n",
       "      <th>390</th>\n",
       "      <td>2021-02-15</td>\n",
       "      <td>mexico</td>\n",
       "      <td>1995892</td>\n",
       "      <td>174657</td>\n",
       "    </tr>\n",
       "    <tr>\n",
       "      <th>391</th>\n",
       "      <td>2021-02-16</td>\n",
       "      <td>mexico</td>\n",
       "      <td>2004575</td>\n",
       "      <td>175986</td>\n",
       "    </tr>\n",
       "  </tbody>\n",
       "</table>\n",
       "<p>392 rows × 4 columns</p>\n",
       "</div>"
      ],
      "text/plain": [
       "           date country  confirmed  deaths\n",
       "0    2020-01-22  mexico          0       0\n",
       "1    2020-01-23  mexico          0       0\n",
       "2    2020-01-24  mexico          0       0\n",
       "3    2020-01-25  mexico          0       0\n",
       "4    2020-01-26  mexico          0       0\n",
       "..          ...     ...        ...     ...\n",
       "387  2021-02-12  mexico    1978954  172557\n",
       "388  2021-02-13  mexico    1988695  173771\n",
       "389  2021-02-14  mexico    1992794  174207\n",
       "390  2021-02-15  mexico    1995892  174657\n",
       "391  2021-02-16  mexico    2004575  175986\n",
       "\n",
       "[392 rows x 4 columns]"
      ]
     },
     "execution_count": 6,
     "metadata": {},
     "output_type": "execute_result"
    }
   ],
   "source": [
    "# Assemble dictionary with columns names and lists.\n",
    "dict_cases = {'date': date_data, 'country': country_data, 'confirmed': day_cumulated_confirmed, 'deaths': day_cumulated_deaths}  \n",
    "\n",
    "# Generate a DataFrame.\n",
    "dfmexico = pd.DataFrame(dict_cases) \n",
    "dfmexico  "
   ]
  },
  {
   "cell_type": "code",
   "execution_count": 7,
   "metadata": {},
   "outputs": [],
   "source": [
    "# export to excel\n",
    "dfmexico.to_excel(\"mexico.xlsx\")"
   ]
  },
  {
   "cell_type": "code",
   "execution_count": 8,
   "metadata": {},
   "outputs": [],
   "source": [
    "# Do the same for 'united states of america'"
   ]
  },
  {
   "cell_type": "code",
   "execution_count": 9,
   "metadata": {},
   "outputs": [
    {
     "data": {
      "text/plain": [
       "'united states of america'"
      ]
     },
     "execution_count": 9,
     "metadata": {},
     "output_type": "execute_result"
    }
   ],
   "source": [
    "froms = []\n",
    "tos = []\n",
    "confirmed = []\n",
    "deaths = []\n",
    "country = []\n",
    "country = 'united states of america'\n",
    "fromdate = '2020-01-01'\n",
    "todate = '2021-03-01'\n",
    "confirmed_url = f'https://api.covid19api.com/total/country/{country}/status/confirmed?from={fromdate}T00:00:00Z&to={todate}T00:00:00Z'\n",
    "deaths_url = f'https://api.covid19api.com/total/country/{country}/status/deaths?from={fromdate}T00:00:00Z&to={todate}T00:00:00Z'\n",
    "response_deaths = requests.get(deaths_url).json() \n",
    "response_confirmed = requests.get(confirmed_url).json()\n",
    "country"
   ]
  },
  {
   "cell_type": "code",
   "execution_count": 10,
   "metadata": {},
   "outputs": [],
   "source": [
    "day_cumulated_deaths=[]\n",
    "day_cumulated_confirmed=[]\n",
    "country_data=[]\n",
    "date_data = []\n",
    "for day in response_deaths:\n",
    "     day_cumulated_deaths.append(day['Cases'])\n",
    "for day in response_confirmed:\n",
    "    day_cumulated_confirmed.append(day['Cases'])\n",
    "    country_data.append(country)\n",
    "    date_data.append(day['Date'][0:10])"
   ]
  },
  {
   "cell_type": "code",
   "execution_count": 11,
   "metadata": {},
   "outputs": [
    {
     "data": {
      "text/html": [
       "<div>\n",
       "<style scoped>\n",
       "    .dataframe tbody tr th:only-of-type {\n",
       "        vertical-align: middle;\n",
       "    }\n",
       "\n",
       "    .dataframe tbody tr th {\n",
       "        vertical-align: top;\n",
       "    }\n",
       "\n",
       "    .dataframe thead th {\n",
       "        text-align: right;\n",
       "    }\n",
       "</style>\n",
       "<table border=\"1\" class=\"dataframe\">\n",
       "  <thead>\n",
       "    <tr style=\"text-align: right;\">\n",
       "      <th></th>\n",
       "      <th>date</th>\n",
       "      <th>country</th>\n",
       "      <th>confirmed</th>\n",
       "      <th>deaths</th>\n",
       "    </tr>\n",
       "  </thead>\n",
       "  <tbody>\n",
       "    <tr>\n",
       "      <th>0</th>\n",
       "      <td>2020-01-22</td>\n",
       "      <td>united states of america</td>\n",
       "      <td>1</td>\n",
       "      <td>0</td>\n",
       "    </tr>\n",
       "    <tr>\n",
       "      <th>1</th>\n",
       "      <td>2020-01-23</td>\n",
       "      <td>united states of america</td>\n",
       "      <td>1</td>\n",
       "      <td>0</td>\n",
       "    </tr>\n",
       "    <tr>\n",
       "      <th>2</th>\n",
       "      <td>2020-01-24</td>\n",
       "      <td>united states of america</td>\n",
       "      <td>2</td>\n",
       "      <td>0</td>\n",
       "    </tr>\n",
       "    <tr>\n",
       "      <th>3</th>\n",
       "      <td>2020-01-25</td>\n",
       "      <td>united states of america</td>\n",
       "      <td>2</td>\n",
       "      <td>0</td>\n",
       "    </tr>\n",
       "    <tr>\n",
       "      <th>4</th>\n",
       "      <td>2020-01-26</td>\n",
       "      <td>united states of america</td>\n",
       "      <td>5</td>\n",
       "      <td>0</td>\n",
       "    </tr>\n",
       "    <tr>\n",
       "      <th>...</th>\n",
       "      <td>...</td>\n",
       "      <td>...</td>\n",
       "      <td>...</td>\n",
       "      <td>...</td>\n",
       "    </tr>\n",
       "    <tr>\n",
       "      <th>387</th>\n",
       "      <td>2021-02-12</td>\n",
       "      <td>united states of america</td>\n",
       "      <td>27492023</td>\n",
       "      <td>482142</td>\n",
       "    </tr>\n",
       "    <tr>\n",
       "      <th>388</th>\n",
       "      <td>2021-02-13</td>\n",
       "      <td>united states of america</td>\n",
       "      <td>27575344</td>\n",
       "      <td>484301</td>\n",
       "    </tr>\n",
       "    <tr>\n",
       "      <th>389</th>\n",
       "      <td>2021-02-14</td>\n",
       "      <td>united states of america</td>\n",
       "      <td>27640282</td>\n",
       "      <td>485384</td>\n",
       "    </tr>\n",
       "    <tr>\n",
       "      <th>390</th>\n",
       "      <td>2021-02-15</td>\n",
       "      <td>united states of america</td>\n",
       "      <td>27694226</td>\n",
       "      <td>486325</td>\n",
       "    </tr>\n",
       "    <tr>\n",
       "      <th>391</th>\n",
       "      <td>2021-02-16</td>\n",
       "      <td>united states of america</td>\n",
       "      <td>27756624</td>\n",
       "      <td>488081</td>\n",
       "    </tr>\n",
       "  </tbody>\n",
       "</table>\n",
       "<p>392 rows × 4 columns</p>\n",
       "</div>"
      ],
      "text/plain": [
       "           date                   country  confirmed  deaths\n",
       "0    2020-01-22  united states of america          1       0\n",
       "1    2020-01-23  united states of america          1       0\n",
       "2    2020-01-24  united states of america          2       0\n",
       "3    2020-01-25  united states of america          2       0\n",
       "4    2020-01-26  united states of america          5       0\n",
       "..          ...                       ...        ...     ...\n",
       "387  2021-02-12  united states of america   27492023  482142\n",
       "388  2021-02-13  united states of america   27575344  484301\n",
       "389  2021-02-14  united states of america   27640282  485384\n",
       "390  2021-02-15  united states of america   27694226  486325\n",
       "391  2021-02-16  united states of america   27756624  488081\n",
       "\n",
       "[392 rows x 4 columns]"
      ]
     },
     "execution_count": 11,
     "metadata": {},
     "output_type": "execute_result"
    }
   ],
   "source": [
    "dict_cases = {'date': date_data, 'country': country_data, 'confirmed': day_cumulated_confirmed, 'deaths': day_cumulated_deaths}  \n",
    "    \n",
    "dfusa = pd.DataFrame(dict_cases) \n",
    "dfusa"
   ]
  },
  {
   "cell_type": "code",
   "execution_count": 15,
   "metadata": {},
   "outputs": [
    {
     "name": "stdout",
     "output_type": "stream",
     "text": [
      "           date                   country  confirmed  deaths\n",
      "0    2020-01-22  united states of america          1       0\n",
      "1    2020-01-23  united states of america          1       0\n",
      "2    2020-01-24  united states of america          2       0\n",
      "3    2020-01-25  united states of america          2       0\n",
      "4    2020-01-26  united states of america          5       0\n",
      "..          ...                       ...        ...     ...\n",
      "387  2021-02-12  united states of america   27492023  482142\n",
      "388  2021-02-13  united states of america   27575344  484301\n",
      "389  2021-02-14  united states of america   27640282  485384\n",
      "390  2021-02-15  united states of america   27694226  486325\n",
      "391  2021-02-16  united states of america   27756624  488081\n",
      "\n",
      "[392 rows x 4 columns]\n"
     ]
    }
   ],
   "source": [
    "dfusa.to_excel(\"usa.xlsx\")\n",
    "print(dfusa)"
   ]
  },
  {
   "cell_type": "code",
   "execution_count": 18,
   "metadata": {},
   "outputs": [
    {
     "data": {
      "image/png": "[encoded data removed]",
      "text/plain": [
       "<Figure size 432x288 with 1 Axes>"
      ]
     },
     "metadata": {
      "needs_background": "light"
     },
     "output_type": "display_data"
    }
   ],
   "source": [
    "df = pd.DataFrame({\n",
    "   'confirmed': dfusa['confirmed'],\n",
    "   'deaths': dfusa['deaths']\n",
    "   })\n",
    "lines = df.plot.line()"
   ]
  },
  {
   "cell_type": "code",
   "execution_count": 19,
   "metadata": {},
   "outputs": [
    {
     "data": {
      "image/png": "[encoded data removed]",
      "text/plain": [
       "<Figure size 432x288 with 1 Axes>"
      ]
     },
     "metadata": {
      "needs_background": "light"
     },
     "output_type": "display_data"
    }
   ],
   "source": [
    "df = pd.DataFrame({\n",
    "   'confirmed': dfusa['confirmed']\n",
    "   })\n",
    "lines = df.plot.line()"
   ]
  },
  {
   "cell_type": "code",
   "execution_count": 20,
   "metadata": {},
   "outputs": [
    {
     "data": {
      "image/png": "[encoded data removed]",
      "text/plain": [
       "<Figure size 432x288 with 1 Axes>"
      ]
     },
     "metadata": {
      "needs_background": "light"
     },
     "output_type": "display_data"
    }
   ],
   "source": [
    "df = pd.DataFrame({\n",
    "   'deaths': dfusa['deaths']\n",
    "   })\n",
    "lines = df.plot.line()"
   ]
  },
  {
   "cell_type": "code",
   "execution_count": 24,
   "metadata": {},
   "outputs": [
    {
     "data": {
      "image/png": "[encoded data removed]",
      "text/plain": [
       "<Figure size 432x288 with 2 Axes>"
      ]
     },
     "metadata": {
      "needs_background": "light"
     },
     "output_type": "display_data"
    }
   ],
   "source": [
    "fig, ax1 = plt.subplots()\n",
    "color = 'tab:red'\n",
    "ax1.set_xlabel('time (s)')\n",
    "ax1.set_ylabel('Deaths', color=color)\n",
    "ax1.plot(dfusa['date'],dfusa['deaths'], color=color)\n",
    "ax1.tick_params(axis='y', labelcolor=color)\n",
    "\n",
    "ax2 = ax1.twinx()  # instantiate a second axes that shares the same x-axis\n",
    "\n",
    "color = 'tab:blue'\n",
    "ax2.set_ylabel('Confirmed', color=color)  # we already handled the x-label with ax1\n",
    "ax2.plot(dfusa['date'], dfusa['confirmed'], color=color)\n",
    "ax2.tick_params(axis='y', labelcolor=color)\n",
    "\n",
    "fig.tight_layout()  # otherwise the right y-label is slightly clipped\n",
    "plt.show()"
   ]
  },
  {
   "cell_type": "code",
   "execution_count": null,
   "metadata": {},
   "outputs": [],
   "source": []
  }
 ],
 "metadata": {
  "kernelspec": {
   "display_name": "Python [conda env:.conda-pythonData] *",
   "language": "python",
   "name": "conda-env-.conda-pythonData-py"
  },
  "language_info": {
   "codemirror_mode": {
    "name": "ipython",
    "version": 3
   },
   "file_extension": ".py",
   "mimetype": "text/x-python",
   "name": "python",
   "nbconvert_exporter": "python",
   "pygments_lexer": "ipython3",
   "version": "3.6.10"
  }
 },
 "nbformat": 4,
 "nbformat_minor": 4
}

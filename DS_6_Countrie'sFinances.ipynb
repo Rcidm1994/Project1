{
 "cells": [
  {
   "cell_type": "code",
   "execution_count": 1,
   "metadata": {},
   "outputs": [],
   "source": [
    "# Dependencies\n",
    "import requests\n",
    "import json"
   ]
  },
  {
   "cell_type": "code",
   "execution_count": 7,
   "metadata": {},
   "outputs": [],
   "source": [
    "from DS6_config import DS601key"
   ]
  },
  {
   "cell_type": "code",
   "execution_count": null,
   "metadata": {},
   "outputs": [],
   "source": [
    "GDP_per_Capita_at_Current_Prices = 'NGDPDPC'\n",
    "Mexico = 'MXN'\n",
    "start_date = '2020-01-01'\n",
    "end_date = '2021-02-01'\n",
    "\n",
    "base_url = 'https://www.quandl.com/api/v3/datasets/ODA/NRU_BCA_NGDPD?'"
   ]
  }
 ],
 "metadata": {
  "kernelspec": {
   "display_name": "Python [conda env:.conda-pythonData] *",
   "language": "python",
   "name": "conda-env-.conda-pythonData-py"
  },
  "language_info": {
   "codemirror_mode": {
    "name": "ipython",
    "version": 3
   },
   "file_extension": ".py",
   "mimetype": "text/x-python",
   "name": "python",
   "nbconvert_exporter": "python",
   "pygments_lexer": "ipython3",
   "version": "3.6.10"
  }
 },
 "nbformat": 4,
 "nbformat_minor": 4
}
